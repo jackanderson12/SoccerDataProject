{
 "cells": [
  {
   "cell_type": "markdown",
   "metadata": {},
   "source": [
    "# Project: Investigating Soccer Match Data\n",
    "\n",
    "## Table of Contents\n",
    "<ul>\n",
    "<li><a href=\"#intro\">Introduction</a></li>\n",
    "<li><a href=\"#wrangling\">Data Wrangling</a></li>\n",
    "<li><a href=\"#eda\">Exploratory Data Analysis</a></li>\n",
    "<li><a href=\"#conclusions\">Conclusions</a></li>\n",
    "</ul>"
   ]
  },
  {
   "cell_type": "markdown",
   "metadata": {},
   "source": [
    "<a id='intro'></a>\n",
    "## Introduction\n",
    "\n",
    "> I chose to analyze the Soccer Database from Kaggle. The Soccer Database contains a lot of information from player rankings, team rankings, and match results from leagues around the world. In order to perform and take an in depth look at the database, I narrowed my analysis to the Premier League. Once I had narrowed to the premier league, the matches really stood out to me. I sought out to answer the questions of which team had improved the most and if scoring more goals per game leads to winning games at a higher rate?"
   ]
  },
  {
   "cell_type": "code",
   "execution_count": 1,
   "metadata": {},
   "outputs": [],
   "source": [
    "# Use this cell to set up import statements for all of the packages that you\n",
    "# plan to use.\n",
    "import pandas as pd \n",
    "import numpy as np \n",
    "import matplotlib.pyplot as plt\n",
    "import seaborn as sns\n",
    "from scipy import stats\n",
    "% matplotlib inline"
   ]
  },
  {
   "cell_type": "markdown",
   "metadata": {},
   "source": [
    "<a id='wrangling'></a>\n",
    "## Data Wrangling\n",
    "\n",
    "\n",
    "### General Properties"
   ]
  },
  {
   "cell_type": "markdown",
   "metadata": {},
   "source": [
    "> In order to begin wrangling the data together, I had to use an sql join in order to get the data that I wanted to start wrangling. After the tables were put together, I read them in and looked to make sure everything copied over correctly."
   ]
  },
  {
   "cell_type": "code",
   "execution_count": 2,
   "metadata": {},
   "outputs": [
    {
     "data": {
      "text/html": [
       "<div>\n",
       "<style scoped>\n",
       "    .dataframe tbody tr th:only-of-type {\n",
       "        vertical-align: middle;\n",
       "    }\n",
       "\n",
       "    .dataframe tbody tr th {\n",
       "        vertical-align: top;\n",
       "    }\n",
       "\n",
       "    .dataframe thead th {\n",
       "        text-align: right;\n",
       "    }\n",
       "</style>\n",
       "<table border=\"1\" class=\"dataframe\">\n",
       "  <thead>\n",
       "    <tr style=\"text-align: right;\">\n",
       "      <th></th>\n",
       "      <th>season</th>\n",
       "      <th>home_team_api_id</th>\n",
       "      <th>away_team_api_id</th>\n",
       "      <th>home_team_goal</th>\n",
       "      <th>away_team_goal</th>\n",
       "    </tr>\n",
       "  </thead>\n",
       "  <tbody>\n",
       "    <tr>\n",
       "      <th>0</th>\n",
       "      <td>2008/2009</td>\n",
       "      <td>10260</td>\n",
       "      <td>10261</td>\n",
       "      <td>1</td>\n",
       "      <td>1</td>\n",
       "    </tr>\n",
       "    <tr>\n",
       "      <th>1</th>\n",
       "      <td>2008/2009</td>\n",
       "      <td>9825</td>\n",
       "      <td>8659</td>\n",
       "      <td>1</td>\n",
       "      <td>0</td>\n",
       "    </tr>\n",
       "    <tr>\n",
       "      <th>2</th>\n",
       "      <td>2008/2009</td>\n",
       "      <td>8472</td>\n",
       "      <td>8650</td>\n",
       "      <td>0</td>\n",
       "      <td>1</td>\n",
       "    </tr>\n",
       "    <tr>\n",
       "      <th>3</th>\n",
       "      <td>2008/2009</td>\n",
       "      <td>8654</td>\n",
       "      <td>8528</td>\n",
       "      <td>2</td>\n",
       "      <td>1</td>\n",
       "    </tr>\n",
       "    <tr>\n",
       "      <th>4</th>\n",
       "      <td>2008/2009</td>\n",
       "      <td>10252</td>\n",
       "      <td>8456</td>\n",
       "      <td>4</td>\n",
       "      <td>2</td>\n",
       "    </tr>\n",
       "  </tbody>\n",
       "</table>\n",
       "</div>"
      ],
      "text/plain": [
       "      season  home_team_api_id  away_team_api_id  home_team_goal  \\\n",
       "0  2008/2009             10260             10261               1   \n",
       "1  2008/2009              9825              8659               1   \n",
       "2  2008/2009              8472              8650               0   \n",
       "3  2008/2009              8654              8528               2   \n",
       "4  2008/2009             10252              8456               4   \n",
       "\n",
       "   away_team_goal  \n",
       "0               1  \n",
       "1               0  \n",
       "2               1  \n",
       "3               1  \n",
       "4               2  "
      ]
     },
     "execution_count": 2,
     "metadata": {},
     "output_type": "execute_result"
    }
   ],
   "source": [
    "match_results = pd.read_csv(\"match_results.csv\")\n",
    "match_results.head()"
   ]
  },
  {
   "cell_type": "markdown",
   "metadata": {},
   "source": [
    "> After looking at the dataframe's structure I performed a .info() on the dataframe in order to see if there were any NaN values. There did not appear to be any NaN values, so I do not need to handle any missing data."
   ]
  },
  {
   "cell_type": "code",
   "execution_count": 3,
   "metadata": {},
   "outputs": [
    {
     "name": "stdout",
     "output_type": "stream",
     "text": [
      "<class 'pandas.core.frame.DataFrame'>\n",
      "RangeIndex: 3040 entries, 0 to 3039\n",
      "Data columns (total 5 columns):\n",
      "season              3040 non-null object\n",
      "home_team_api_id    3040 non-null int64\n",
      "away_team_api_id    3040 non-null int64\n",
      "home_team_goal      3040 non-null int64\n",
      "away_team_goal      3040 non-null int64\n",
      "dtypes: int64(4), object(1)\n",
      "memory usage: 118.8+ KB\n"
     ]
    }
   ],
   "source": [
    "match_results.info()"
   ]
  },
  {
   "cell_type": "code",
   "execution_count": 4,
   "metadata": {},
   "outputs": [
    {
     "data": {
      "text/html": [
       "<div>\n",
       "<style scoped>\n",
       "    .dataframe tbody tr th:only-of-type {\n",
       "        vertical-align: middle;\n",
       "    }\n",
       "\n",
       "    .dataframe tbody tr th {\n",
       "        vertical-align: top;\n",
       "    }\n",
       "\n",
       "    .dataframe thead th {\n",
       "        text-align: right;\n",
       "    }\n",
       "</style>\n",
       "<table border=\"1\" class=\"dataframe\">\n",
       "  <thead>\n",
       "    <tr style=\"text-align: right;\">\n",
       "      <th></th>\n",
       "      <th>id</th>\n",
       "      <th>team_api_id</th>\n",
       "      <th>team_fifa_api_id</th>\n",
       "      <th>team_long_name</th>\n",
       "      <th>team_short_name</th>\n",
       "    </tr>\n",
       "  </thead>\n",
       "  <tbody>\n",
       "    <tr>\n",
       "      <th>0</th>\n",
       "      <td>1</td>\n",
       "      <td>9987</td>\n",
       "      <td>673.0</td>\n",
       "      <td>KRC Genk</td>\n",
       "      <td>GEN</td>\n",
       "    </tr>\n",
       "    <tr>\n",
       "      <th>1</th>\n",
       "      <td>2</td>\n",
       "      <td>9993</td>\n",
       "      <td>675.0</td>\n",
       "      <td>Beerschot AC</td>\n",
       "      <td>BAC</td>\n",
       "    </tr>\n",
       "    <tr>\n",
       "      <th>2</th>\n",
       "      <td>3</td>\n",
       "      <td>10000</td>\n",
       "      <td>15005.0</td>\n",
       "      <td>SV Zulte-Waregem</td>\n",
       "      <td>ZUL</td>\n",
       "    </tr>\n",
       "    <tr>\n",
       "      <th>3</th>\n",
       "      <td>4</td>\n",
       "      <td>9994</td>\n",
       "      <td>2007.0</td>\n",
       "      <td>Sporting Lokeren</td>\n",
       "      <td>LOK</td>\n",
       "    </tr>\n",
       "    <tr>\n",
       "      <th>4</th>\n",
       "      <td>5</td>\n",
       "      <td>9984</td>\n",
       "      <td>1750.0</td>\n",
       "      <td>KSV Cercle Brugge</td>\n",
       "      <td>CEB</td>\n",
       "    </tr>\n",
       "  </tbody>\n",
       "</table>\n",
       "</div>"
      ],
      "text/plain": [
       "   id  team_api_id  team_fifa_api_id     team_long_name team_short_name\n",
       "0   1         9987             673.0           KRC Genk             GEN\n",
       "1   2         9993             675.0       Beerschot AC             BAC\n",
       "2   3        10000           15005.0   SV Zulte-Waregem             ZUL\n",
       "3   4         9994            2007.0   Sporting Lokeren             LOK\n",
       "4   5         9984            1750.0  KSV Cercle Brugge             CEB"
      ]
     },
     "execution_count": 4,
     "metadata": {},
     "output_type": "execute_result"
    }
   ],
   "source": [
    "team = pd.read_csv(\"Team.csv\")\n",
    "team.head()"
   ]
  },
  {
   "cell_type": "markdown",
   "metadata": {},
   "source": [
    "> After looking at the general structure of the dataframe, I wanted to see if I would run into any NaN values. I found using .info() there are some missing team_fifa_api_id which is not a problem as I will just use the team_api_id and team_long_name to fill in the match data."
   ]
  },
  {
   "cell_type": "code",
   "execution_count": 5,
   "metadata": {
    "scrolled": true
   },
   "outputs": [
    {
     "name": "stdout",
     "output_type": "stream",
     "text": [
      "<class 'pandas.core.frame.DataFrame'>\n",
      "RangeIndex: 299 entries, 0 to 298\n",
      "Data columns (total 5 columns):\n",
      "id                  299 non-null int64\n",
      "team_api_id         299 non-null int64\n",
      "team_fifa_api_id    288 non-null float64\n",
      "team_long_name      299 non-null object\n",
      "team_short_name     299 non-null object\n",
      "dtypes: float64(1), int64(2), object(2)\n",
      "memory usage: 11.8+ KB\n"
     ]
    }
   ],
   "source": [
    "team.info()"
   ]
  },
  {
   "cell_type": "markdown",
   "metadata": {},
   "source": [
    "### Data Cleaning (Replace this with more specific notes!)"
   ]
  },
  {
   "cell_type": "markdown",
   "metadata": {},
   "source": [
    "> Reading the data in started the process, now I had to organize the match data and create useful columns for analysis."
   ]
  },
  {
   "cell_type": "code",
   "execution_count": 6,
   "metadata": {},
   "outputs": [
    {
     "data": {
      "text/html": [
       "<div>\n",
       "<style scoped>\n",
       "    .dataframe tbody tr th:only-of-type {\n",
       "        vertical-align: middle;\n",
       "    }\n",
       "\n",
       "    .dataframe tbody tr th {\n",
       "        vertical-align: top;\n",
       "    }\n",
       "\n",
       "    .dataframe thead th {\n",
       "        text-align: right;\n",
       "    }\n",
       "</style>\n",
       "<table border=\"1\" class=\"dataframe\">\n",
       "  <thead>\n",
       "    <tr style=\"text-align: right;\">\n",
       "      <th></th>\n",
       "      <th>season</th>\n",
       "      <th>home_team_api_id</th>\n",
       "      <th>away_team_api_id</th>\n",
       "      <th>home_team_goal</th>\n",
       "      <th>away_team_goal</th>\n",
       "      <th>winning_team</th>\n",
       "    </tr>\n",
       "  </thead>\n",
       "  <tbody>\n",
       "    <tr>\n",
       "      <th>0</th>\n",
       "      <td>2008/2009</td>\n",
       "      <td>10260</td>\n",
       "      <td>10261</td>\n",
       "      <td>1</td>\n",
       "      <td>1</td>\n",
       "      <td>NaN</td>\n",
       "    </tr>\n",
       "    <tr>\n",
       "      <th>1</th>\n",
       "      <td>2008/2009</td>\n",
       "      <td>9825</td>\n",
       "      <td>8659</td>\n",
       "      <td>1</td>\n",
       "      <td>0</td>\n",
       "      <td>NaN</td>\n",
       "    </tr>\n",
       "    <tr>\n",
       "      <th>2</th>\n",
       "      <td>2008/2009</td>\n",
       "      <td>8472</td>\n",
       "      <td>8650</td>\n",
       "      <td>0</td>\n",
       "      <td>1</td>\n",
       "      <td>NaN</td>\n",
       "    </tr>\n",
       "    <tr>\n",
       "      <th>3</th>\n",
       "      <td>2008/2009</td>\n",
       "      <td>8654</td>\n",
       "      <td>8528</td>\n",
       "      <td>2</td>\n",
       "      <td>1</td>\n",
       "      <td>NaN</td>\n",
       "    </tr>\n",
       "    <tr>\n",
       "      <th>4</th>\n",
       "      <td>2008/2009</td>\n",
       "      <td>10252</td>\n",
       "      <td>8456</td>\n",
       "      <td>4</td>\n",
       "      <td>2</td>\n",
       "      <td>NaN</td>\n",
       "    </tr>\n",
       "  </tbody>\n",
       "</table>\n",
       "</div>"
      ],
      "text/plain": [
       "      season  home_team_api_id  away_team_api_id  home_team_goal  \\\n",
       "0  2008/2009             10260             10261               1   \n",
       "1  2008/2009              9825              8659               1   \n",
       "2  2008/2009              8472              8650               0   \n",
       "3  2008/2009              8654              8528               2   \n",
       "4  2008/2009             10252              8456               4   \n",
       "\n",
       "   away_team_goal winning_team  \n",
       "0               1          NaN  \n",
       "1               0          NaN  \n",
       "2               1          NaN  \n",
       "3               1          NaN  \n",
       "4               2          NaN  "
      ]
     },
     "execution_count": 6,
     "metadata": {},
     "output_type": "execute_result"
    }
   ],
   "source": [
    "winning_team = np.repeat('NaN',len(match_results.index))\n",
    "match_results['winning_team'] = winning_team\n",
    "match_results.head()"
   ]
  },
  {
   "cell_type": "markdown",
   "metadata": {},
   "source": [
    "> The columns labeled 'home_team_api_id' and 'away_team_api_id' provided a unique identifier to the team that played, however I wanted to replace it with the team name that was provided in the team dataframe."
   ]
  },
  {
   "cell_type": "code",
   "execution_count": 7,
   "metadata": {},
   "outputs": [
    {
     "data": {
      "text/html": [
       "<div>\n",
       "<style scoped>\n",
       "    .dataframe tbody tr th:only-of-type {\n",
       "        vertical-align: middle;\n",
       "    }\n",
       "\n",
       "    .dataframe tbody tr th {\n",
       "        vertical-align: top;\n",
       "    }\n",
       "\n",
       "    .dataframe thead th {\n",
       "        text-align: right;\n",
       "    }\n",
       "</style>\n",
       "<table border=\"1\" class=\"dataframe\">\n",
       "  <thead>\n",
       "    <tr style=\"text-align: right;\">\n",
       "      <th></th>\n",
       "      <th>season</th>\n",
       "      <th>home_team_name</th>\n",
       "      <th>away_team_name</th>\n",
       "      <th>home_team_goal</th>\n",
       "      <th>away_team_goal</th>\n",
       "      <th>winning_team</th>\n",
       "    </tr>\n",
       "  </thead>\n",
       "  <tbody>\n",
       "    <tr>\n",
       "      <th>0</th>\n",
       "      <td>2008/2009</td>\n",
       "      <td>Manchester United</td>\n",
       "      <td>Newcastle United</td>\n",
       "      <td>1</td>\n",
       "      <td>1</td>\n",
       "      <td>NaN</td>\n",
       "    </tr>\n",
       "    <tr>\n",
       "      <th>1</th>\n",
       "      <td>2008/2009</td>\n",
       "      <td>Arsenal</td>\n",
       "      <td>West Bromwich Albion</td>\n",
       "      <td>1</td>\n",
       "      <td>0</td>\n",
       "      <td>NaN</td>\n",
       "    </tr>\n",
       "    <tr>\n",
       "      <th>2</th>\n",
       "      <td>2008/2009</td>\n",
       "      <td>Sunderland</td>\n",
       "      <td>Liverpool</td>\n",
       "      <td>0</td>\n",
       "      <td>1</td>\n",
       "      <td>NaN</td>\n",
       "    </tr>\n",
       "    <tr>\n",
       "      <th>3</th>\n",
       "      <td>2008/2009</td>\n",
       "      <td>West Ham United</td>\n",
       "      <td>Wigan Athletic</td>\n",
       "      <td>2</td>\n",
       "      <td>1</td>\n",
       "      <td>NaN</td>\n",
       "    </tr>\n",
       "    <tr>\n",
       "      <th>4</th>\n",
       "      <td>2008/2009</td>\n",
       "      <td>Aston Villa</td>\n",
       "      <td>Manchester City</td>\n",
       "      <td>4</td>\n",
       "      <td>2</td>\n",
       "      <td>NaN</td>\n",
       "    </tr>\n",
       "  </tbody>\n",
       "</table>\n",
       "</div>"
      ],
      "text/plain": [
       "      season     home_team_name        away_team_name  home_team_goal  \\\n",
       "0  2008/2009  Manchester United      Newcastle United               1   \n",
       "1  2008/2009            Arsenal  West Bromwich Albion               1   \n",
       "2  2008/2009         Sunderland             Liverpool               0   \n",
       "3  2008/2009    West Ham United        Wigan Athletic               2   \n",
       "4  2008/2009        Aston Villa       Manchester City               4   \n",
       "\n",
       "   away_team_goal winning_team  \n",
       "0               1          NaN  \n",
       "1               0          NaN  \n",
       "2               1          NaN  \n",
       "3               1          NaN  \n",
       "4               2          NaN  "
      ]
     },
     "execution_count": 7,
     "metadata": {},
     "output_type": "execute_result"
    }
   ],
   "source": [
    "team_array = dict(zip(team['team_api_id'],team['team_long_name']))\n",
    "match_results['home_team_api_id'].replace(team_array,inplace=True)\n",
    "match_results['away_team_api_id'].replace(team_array,inplace=True)\n",
    "match_results.rename(columns = {'home_team_api_id':'home_team_name', 'away_team_api_id':'away_team_name'}, inplace=True)\n",
    "match_results.head()"
   ]
  },
  {
   "cell_type": "markdown",
   "metadata": {},
   "source": [
    "> Once the team names were in place I needed to fill in the 'winning_team' column in order to answer the questions I want to analyze."
   ]
  },
  {
   "cell_type": "code",
   "execution_count": 8,
   "metadata": {},
   "outputs": [
    {
     "data": {
      "text/html": [
       "<div>\n",
       "<style scoped>\n",
       "    .dataframe tbody tr th:only-of-type {\n",
       "        vertical-align: middle;\n",
       "    }\n",
       "\n",
       "    .dataframe tbody tr th {\n",
       "        vertical-align: top;\n",
       "    }\n",
       "\n",
       "    .dataframe thead th {\n",
       "        text-align: right;\n",
       "    }\n",
       "</style>\n",
       "<table border=\"1\" class=\"dataframe\">\n",
       "  <thead>\n",
       "    <tr style=\"text-align: right;\">\n",
       "      <th></th>\n",
       "      <th>season</th>\n",
       "      <th>home_team_name</th>\n",
       "      <th>away_team_name</th>\n",
       "      <th>home_team_goal</th>\n",
       "      <th>away_team_goal</th>\n",
       "      <th>winning_team</th>\n",
       "    </tr>\n",
       "  </thead>\n",
       "  <tbody>\n",
       "    <tr>\n",
       "      <th>0</th>\n",
       "      <td>2008/2009</td>\n",
       "      <td>Manchester United</td>\n",
       "      <td>Newcastle United</td>\n",
       "      <td>1</td>\n",
       "      <td>1</td>\n",
       "      <td>draw</td>\n",
       "    </tr>\n",
       "    <tr>\n",
       "      <th>1</th>\n",
       "      <td>2008/2009</td>\n",
       "      <td>Arsenal</td>\n",
       "      <td>West Bromwich Albion</td>\n",
       "      <td>1</td>\n",
       "      <td>0</td>\n",
       "      <td>Arsenal</td>\n",
       "    </tr>\n",
       "    <tr>\n",
       "      <th>2</th>\n",
       "      <td>2008/2009</td>\n",
       "      <td>Sunderland</td>\n",
       "      <td>Liverpool</td>\n",
       "      <td>0</td>\n",
       "      <td>1</td>\n",
       "      <td>Liverpool</td>\n",
       "    </tr>\n",
       "    <tr>\n",
       "      <th>3</th>\n",
       "      <td>2008/2009</td>\n",
       "      <td>West Ham United</td>\n",
       "      <td>Wigan Athletic</td>\n",
       "      <td>2</td>\n",
       "      <td>1</td>\n",
       "      <td>West Ham United</td>\n",
       "    </tr>\n",
       "    <tr>\n",
       "      <th>4</th>\n",
       "      <td>2008/2009</td>\n",
       "      <td>Aston Villa</td>\n",
       "      <td>Manchester City</td>\n",
       "      <td>4</td>\n",
       "      <td>2</td>\n",
       "      <td>Aston Villa</td>\n",
       "    </tr>\n",
       "  </tbody>\n",
       "</table>\n",
       "</div>"
      ],
      "text/plain": [
       "      season     home_team_name        away_team_name  home_team_goal  \\\n",
       "0  2008/2009  Manchester United      Newcastle United               1   \n",
       "1  2008/2009            Arsenal  West Bromwich Albion               1   \n",
       "2  2008/2009         Sunderland             Liverpool               0   \n",
       "3  2008/2009    West Ham United        Wigan Athletic               2   \n",
       "4  2008/2009        Aston Villa       Manchester City               4   \n",
       "\n",
       "   away_team_goal     winning_team  \n",
       "0               1             draw  \n",
       "1               0          Arsenal  \n",
       "2               1        Liverpool  \n",
       "3               1  West Ham United  \n",
       "4               2      Aston Villa  "
      ]
     },
     "execution_count": 8,
     "metadata": {},
     "output_type": "execute_result"
    }
   ],
   "source": [
    "for index in range(len(match_results['winning_team']) - 1):\n",
    "    if match_results['home_team_goal'].iloc[index] > match_results['away_team_goal'].iloc[index]:\n",
    "        match_results.at[index,'winning_team'] = match_results['home_team_name'].iloc[index]\n",
    "    elif match_results['home_team_goal'].iloc[index] < match_results['away_team_goal'].iloc[index]:\n",
    "         match_results.at[index,'winning_team'] = match_results['away_team_name'].iloc[index]\n",
    "    else:\n",
    "        match_results.at[index,'winning_team'] = 'draw'\n",
    "match_results.head()"
   ]
  },
  {
   "cell_type": "markdown",
   "metadata": {},
   "source": [
    "> The winning_team data is useful for both of my research questions, but the goals are only useful for one of the questions. In order to tidy the data I dropped the goals columns to better analyze my first question."
   ]
  },
  {
   "cell_type": "code",
   "execution_count": 9,
   "metadata": {},
   "outputs": [
    {
     "data": {
      "text/html": [
       "<div>\n",
       "<style scoped>\n",
       "    .dataframe tbody tr th:only-of-type {\n",
       "        vertical-align: middle;\n",
       "    }\n",
       "\n",
       "    .dataframe tbody tr th {\n",
       "        vertical-align: top;\n",
       "    }\n",
       "\n",
       "    .dataframe thead th {\n",
       "        text-align: right;\n",
       "    }\n",
       "</style>\n",
       "<table border=\"1\" class=\"dataframe\">\n",
       "  <thead>\n",
       "    <tr style=\"text-align: right;\">\n",
       "      <th></th>\n",
       "      <th>season</th>\n",
       "      <th>home_team_name</th>\n",
       "      <th>away_team_name</th>\n",
       "      <th>winning_team</th>\n",
       "    </tr>\n",
       "  </thead>\n",
       "  <tbody>\n",
       "    <tr>\n",
       "      <th>0</th>\n",
       "      <td>2008/2009</td>\n",
       "      <td>Manchester United</td>\n",
       "      <td>Newcastle United</td>\n",
       "      <td>draw</td>\n",
       "    </tr>\n",
       "    <tr>\n",
       "      <th>1</th>\n",
       "      <td>2008/2009</td>\n",
       "      <td>Arsenal</td>\n",
       "      <td>West Bromwich Albion</td>\n",
       "      <td>Arsenal</td>\n",
       "    </tr>\n",
       "    <tr>\n",
       "      <th>2</th>\n",
       "      <td>2008/2009</td>\n",
       "      <td>Sunderland</td>\n",
       "      <td>Liverpool</td>\n",
       "      <td>Liverpool</td>\n",
       "    </tr>\n",
       "    <tr>\n",
       "      <th>3</th>\n",
       "      <td>2008/2009</td>\n",
       "      <td>West Ham United</td>\n",
       "      <td>Wigan Athletic</td>\n",
       "      <td>West Ham United</td>\n",
       "    </tr>\n",
       "    <tr>\n",
       "      <th>4</th>\n",
       "      <td>2008/2009</td>\n",
       "      <td>Aston Villa</td>\n",
       "      <td>Manchester City</td>\n",
       "      <td>Aston Villa</td>\n",
       "    </tr>\n",
       "  </tbody>\n",
       "</table>\n",
       "</div>"
      ],
      "text/plain": [
       "      season     home_team_name        away_team_name     winning_team\n",
       "0  2008/2009  Manchester United      Newcastle United             draw\n",
       "1  2008/2009            Arsenal  West Bromwich Albion          Arsenal\n",
       "2  2008/2009         Sunderland             Liverpool        Liverpool\n",
       "3  2008/2009    West Ham United        Wigan Athletic  West Ham United\n",
       "4  2008/2009        Aston Villa       Manchester City      Aston Villa"
      ]
     },
     "execution_count": 9,
     "metadata": {},
     "output_type": "execute_result"
    }
   ],
   "source": [
    "season_results = match_results.drop(columns={'home_team_goal','away_team_goal'})\n",
    "season_results.head()"
   ]
  },
  {
   "cell_type": "markdown",
   "metadata": {},
   "source": [
    "<a id='eda'></a>\n",
    "## Exploratory Data Analysis\n",
    "\n",
    "### Research Question 1: Which team improved the most over the given data set?"
   ]
  },
  {
   "cell_type": "markdown",
   "metadata": {},
   "source": [
    "> To better look at improvement I did not want to be too broad, so I broke the data down by seasons."
   ]
  },
  {
   "cell_type": "code",
   "execution_count": 10,
   "metadata": {},
   "outputs": [
    {
     "data": {
      "text/plain": [
       "array(['2008/2009', '2009/2010', '2010/2011', '2011/2012', '2012/2013',\n",
       "       '2013/2014', '2014/2015', '2015/2016'], dtype=object)"
      ]
     },
     "execution_count": 10,
     "metadata": {},
     "output_type": "execute_result"
    }
   ],
   "source": [
    "season_results['season'].unique()"
   ]
  },
  {
   "cell_type": "code",
   "execution_count": 11,
   "metadata": {},
   "outputs": [
    {
     "data": {
      "text/html": [
       "<div>\n",
       "<style scoped>\n",
       "    .dataframe tbody tr th:only-of-type {\n",
       "        vertical-align: middle;\n",
       "    }\n",
       "\n",
       "    .dataframe tbody tr th {\n",
       "        vertical-align: top;\n",
       "    }\n",
       "\n",
       "    .dataframe thead th {\n",
       "        text-align: right;\n",
       "    }\n",
       "</style>\n",
       "<table border=\"1\" class=\"dataframe\">\n",
       "  <thead>\n",
       "    <tr style=\"text-align: right;\">\n",
       "      <th></th>\n",
       "      <th>games_played</th>\n",
       "    </tr>\n",
       "  </thead>\n",
       "  <tbody>\n",
       "    <tr>\n",
       "      <th>Arsenal</th>\n",
       "      <td>38</td>\n",
       "    </tr>\n",
       "    <tr>\n",
       "      <th>Aston Villa</th>\n",
       "      <td>38</td>\n",
       "    </tr>\n",
       "    <tr>\n",
       "      <th>Blackburn Rovers</th>\n",
       "      <td>38</td>\n",
       "    </tr>\n",
       "    <tr>\n",
       "      <th>Bolton Wanderers</th>\n",
       "      <td>38</td>\n",
       "    </tr>\n",
       "    <tr>\n",
       "      <th>Chelsea</th>\n",
       "      <td>38</td>\n",
       "    </tr>\n",
       "  </tbody>\n",
       "</table>\n",
       "</div>"
      ],
      "text/plain": [
       "                  games_played\n",
       "Arsenal                     38\n",
       "Aston Villa                 38\n",
       "Blackburn Rovers            38\n",
       "Bolton Wanderers            38\n",
       "Chelsea                     38"
      ]
     },
     "execution_count": 11,
     "metadata": {},
     "output_type": "execute_result"
    }
   ],
   "source": [
    "df_0809_temp = season_results.query('season == \"2008/2009\"')\n",
    "league_data = df_0809_temp['home_team_name'].value_counts() + df_0809_temp['away_team_name'].value_counts()\n",
    "league_data = pd.DataFrame(league_data)\n",
    "league_data.columns = ['games_played']\n",
    "league_data.head()"
   ]
  },
  {
   "cell_type": "markdown",
   "metadata": {},
   "source": [
    "> After querying by seaon, I wanted to make sure the data could not be skewed by number of games, so it was best to go by win percentage and not total games won. I made a new column of 'games_won' by counting the winning team column for the season."
   ]
  },
  {
   "cell_type": "code",
   "execution_count": 12,
   "metadata": {},
   "outputs": [
    {
     "data": {
      "text/html": [
       "<div>\n",
       "<style scoped>\n",
       "    .dataframe tbody tr th:only-of-type {\n",
       "        vertical-align: middle;\n",
       "    }\n",
       "\n",
       "    .dataframe tbody tr th {\n",
       "        vertical-align: top;\n",
       "    }\n",
       "\n",
       "    .dataframe thead th {\n",
       "        text-align: right;\n",
       "    }\n",
       "</style>\n",
       "<table border=\"1\" class=\"dataframe\">\n",
       "  <thead>\n",
       "    <tr style=\"text-align: right;\">\n",
       "      <th></th>\n",
       "      <th>games_played</th>\n",
       "      <th>games_won</th>\n",
       "      <th>win_%_0809</th>\n",
       "    </tr>\n",
       "  </thead>\n",
       "  <tbody>\n",
       "    <tr>\n",
       "      <th>Arsenal</th>\n",
       "      <td>38</td>\n",
       "      <td>20</td>\n",
       "      <td>0.526316</td>\n",
       "    </tr>\n",
       "    <tr>\n",
       "      <th>Aston Villa</th>\n",
       "      <td>38</td>\n",
       "      <td>17</td>\n",
       "      <td>0.447368</td>\n",
       "    </tr>\n",
       "    <tr>\n",
       "      <th>Blackburn Rovers</th>\n",
       "      <td>38</td>\n",
       "      <td>10</td>\n",
       "      <td>0.263158</td>\n",
       "    </tr>\n",
       "    <tr>\n",
       "      <th>Bolton Wanderers</th>\n",
       "      <td>38</td>\n",
       "      <td>11</td>\n",
       "      <td>0.289474</td>\n",
       "    </tr>\n",
       "    <tr>\n",
       "      <th>Chelsea</th>\n",
       "      <td>38</td>\n",
       "      <td>25</td>\n",
       "      <td>0.657895</td>\n",
       "    </tr>\n",
       "  </tbody>\n",
       "</table>\n",
       "</div>"
      ],
      "text/plain": [
       "                  games_played  games_won  win_%_0809\n",
       "Arsenal                     38         20    0.526316\n",
       "Aston Villa                 38         17    0.447368\n",
       "Blackburn Rovers            38         10    0.263158\n",
       "Bolton Wanderers            38         11    0.289474\n",
       "Chelsea                     38         25    0.657895"
      ]
     },
     "execution_count": 12,
     "metadata": {},
     "output_type": "execute_result"
    }
   ],
   "source": [
    "df_0809_temp = df_0809_temp.query('winning_team != \"draw\"')\n",
    "league_data['games_won'] = df_0809_temp['winning_team'].value_counts()\n",
    "league_data['win_%_0809'] = league_data['games_won'] / league_data['games_played']\n",
    "league_data.head()"
   ]
  },
  {
   "cell_type": "markdown",
   "metadata": {},
   "source": [
    "> I then dropped the not useful columns to make the data tidier."
   ]
  },
  {
   "cell_type": "code",
   "execution_count": 13,
   "metadata": {},
   "outputs": [
    {
     "data": {
      "text/html": [
       "<div>\n",
       "<style scoped>\n",
       "    .dataframe tbody tr th:only-of-type {\n",
       "        vertical-align: middle;\n",
       "    }\n",
       "\n",
       "    .dataframe tbody tr th {\n",
       "        vertical-align: top;\n",
       "    }\n",
       "\n",
       "    .dataframe thead th {\n",
       "        text-align: right;\n",
       "    }\n",
       "</style>\n",
       "<table border=\"1\" class=\"dataframe\">\n",
       "  <thead>\n",
       "    <tr style=\"text-align: right;\">\n",
       "      <th></th>\n",
       "      <th>win_%_0809</th>\n",
       "    </tr>\n",
       "  </thead>\n",
       "  <tbody>\n",
       "    <tr>\n",
       "      <th>Arsenal</th>\n",
       "      <td>0.526316</td>\n",
       "    </tr>\n",
       "    <tr>\n",
       "      <th>Aston Villa</th>\n",
       "      <td>0.447368</td>\n",
       "    </tr>\n",
       "    <tr>\n",
       "      <th>Blackburn Rovers</th>\n",
       "      <td>0.263158</td>\n",
       "    </tr>\n",
       "    <tr>\n",
       "      <th>Bolton Wanderers</th>\n",
       "      <td>0.289474</td>\n",
       "    </tr>\n",
       "    <tr>\n",
       "      <th>Chelsea</th>\n",
       "      <td>0.657895</td>\n",
       "    </tr>\n",
       "  </tbody>\n",
       "</table>\n",
       "</div>"
      ],
      "text/plain": [
       "                  win_%_0809\n",
       "Arsenal             0.526316\n",
       "Aston Villa         0.447368\n",
       "Blackburn Rovers    0.263158\n",
       "Bolton Wanderers    0.289474\n",
       "Chelsea             0.657895"
      ]
     },
     "execution_count": 13,
     "metadata": {},
     "output_type": "execute_result"
    }
   ],
   "source": [
    "league_data.drop(columns={'games_played','games_won'}, inplace=True)\n",
    "league_data.head()"
   ]
  },
  {
   "cell_type": "markdown",
   "metadata": {},
   "source": [
    "> Then I proceeded to follow the same steps for the rest of the seasons."
   ]
  },
  {
   "cell_type": "code",
   "execution_count": 14,
   "metadata": {},
   "outputs": [],
   "source": [
    "def reset_dataFrame(temp):\n",
    "    temp = pd.DataFrame(None)\n",
    "    return temp"
   ]
  },
  {
   "cell_type": "code",
   "execution_count": 15,
   "metadata": {},
   "outputs": [
    {
     "data": {
      "text/html": [
       "<div>\n",
       "<style scoped>\n",
       "    .dataframe tbody tr th:only-of-type {\n",
       "        vertical-align: middle;\n",
       "    }\n",
       "\n",
       "    .dataframe tbody tr th {\n",
       "        vertical-align: top;\n",
       "    }\n",
       "\n",
       "    .dataframe thead th {\n",
       "        text-align: right;\n",
       "    }\n",
       "</style>\n",
       "<table border=\"1\" class=\"dataframe\">\n",
       "  <thead>\n",
       "    <tr style=\"text-align: right;\">\n",
       "      <th></th>\n",
       "      <th>win_%_0809</th>\n",
       "      <th>win_%_0910</th>\n",
       "    </tr>\n",
       "  </thead>\n",
       "  <tbody>\n",
       "    <tr>\n",
       "      <th>Arsenal</th>\n",
       "      <td>0.526316</td>\n",
       "      <td>0.605263</td>\n",
       "    </tr>\n",
       "    <tr>\n",
       "      <th>Aston Villa</th>\n",
       "      <td>0.447368</td>\n",
       "      <td>0.447368</td>\n",
       "    </tr>\n",
       "    <tr>\n",
       "      <th>Blackburn Rovers</th>\n",
       "      <td>0.263158</td>\n",
       "      <td>0.342105</td>\n",
       "    </tr>\n",
       "    <tr>\n",
       "      <th>Bolton Wanderers</th>\n",
       "      <td>0.289474</td>\n",
       "      <td>0.263158</td>\n",
       "    </tr>\n",
       "    <tr>\n",
       "      <th>Chelsea</th>\n",
       "      <td>0.657895</td>\n",
       "      <td>0.710526</td>\n",
       "    </tr>\n",
       "  </tbody>\n",
       "</table>\n",
       "</div>"
      ],
      "text/plain": [
       "                  win_%_0809  win_%_0910\n",
       "Arsenal             0.526316    0.605263\n",
       "Aston Villa         0.447368    0.447368\n",
       "Blackburn Rovers    0.263158    0.342105\n",
       "Bolton Wanderers    0.289474    0.263158\n",
       "Chelsea             0.657895    0.710526"
      ]
     },
     "execution_count": 15,
     "metadata": {},
     "output_type": "execute_result"
    }
   ],
   "source": [
    "df_0910_temp = season_results.query('season == \"2009/2010\"')\n",
    "temp = df_0910_temp['home_team_name'].value_counts() + df_0910_temp['away_team_name'].value_counts()\n",
    "temp = pd.DataFrame(temp)\n",
    "temp.columns = ['games_played']\n",
    "df_0910_temp = df_0910_temp.query('winning_team != \"draw\"')\n",
    "temp['games_won'] = df_0910_temp['winning_team'].value_counts()\n",
    "temp['win_%_0910'] = temp['games_won'] / temp['games_played']\n",
    "league_data['win_%_0910'] = temp['win_%_0910']\n",
    "league_data.head()"
   ]
  },
  {
   "cell_type": "code",
   "execution_count": 16,
   "metadata": {},
   "outputs": [
    {
     "data": {
      "text/html": [
       "<div>\n",
       "<style scoped>\n",
       "    .dataframe tbody tr th:only-of-type {\n",
       "        vertical-align: middle;\n",
       "    }\n",
       "\n",
       "    .dataframe tbody tr th {\n",
       "        vertical-align: top;\n",
       "    }\n",
       "\n",
       "    .dataframe thead th {\n",
       "        text-align: right;\n",
       "    }\n",
       "</style>\n",
       "<table border=\"1\" class=\"dataframe\">\n",
       "  <thead>\n",
       "    <tr style=\"text-align: right;\">\n",
       "      <th></th>\n",
       "      <th>win_%_0809</th>\n",
       "      <th>win_%_0910</th>\n",
       "      <th>win_%_1011</th>\n",
       "    </tr>\n",
       "  </thead>\n",
       "  <tbody>\n",
       "    <tr>\n",
       "      <th>Arsenal</th>\n",
       "      <td>0.526316</td>\n",
       "      <td>0.605263</td>\n",
       "      <td>0.500000</td>\n",
       "    </tr>\n",
       "    <tr>\n",
       "      <th>Aston Villa</th>\n",
       "      <td>0.447368</td>\n",
       "      <td>0.447368</td>\n",
       "      <td>0.315789</td>\n",
       "    </tr>\n",
       "    <tr>\n",
       "      <th>Blackburn Rovers</th>\n",
       "      <td>0.263158</td>\n",
       "      <td>0.342105</td>\n",
       "      <td>0.289474</td>\n",
       "    </tr>\n",
       "    <tr>\n",
       "      <th>Bolton Wanderers</th>\n",
       "      <td>0.289474</td>\n",
       "      <td>0.263158</td>\n",
       "      <td>0.315789</td>\n",
       "    </tr>\n",
       "    <tr>\n",
       "      <th>Chelsea</th>\n",
       "      <td>0.657895</td>\n",
       "      <td>0.710526</td>\n",
       "      <td>0.552632</td>\n",
       "    </tr>\n",
       "  </tbody>\n",
       "</table>\n",
       "</div>"
      ],
      "text/plain": [
       "                  win_%_0809  win_%_0910  win_%_1011\n",
       "Arsenal             0.526316    0.605263    0.500000\n",
       "Aston Villa         0.447368    0.447368    0.315789\n",
       "Blackburn Rovers    0.263158    0.342105    0.289474\n",
       "Bolton Wanderers    0.289474    0.263158    0.315789\n",
       "Chelsea             0.657895    0.710526    0.552632"
      ]
     },
     "execution_count": 16,
     "metadata": {},
     "output_type": "execute_result"
    }
   ],
   "source": [
    "reset_dataFrame(temp)\n",
    "df_1011_temp = season_results.query('season == \"2010/2011\"')\n",
    "temp = df_1011_temp['home_team_name'].value_counts() + df_1011_temp['away_team_name'].value_counts()\n",
    "temp = pd.DataFrame(temp)\n",
    "temp.columns = ['games_played']\n",
    "df_1011_temp = df_1011_temp.query('winning_team != \"draw\"')\n",
    "temp['games_won'] = df_1011_temp['winning_team'].value_counts()\n",
    "temp['win_%_1011'] = temp['games_won'] / temp['games_played']\n",
    "league_data['win_%_1011'] = temp['win_%_1011']\n",
    "league_data.head()"
   ]
  },
  {
   "cell_type": "code",
   "execution_count": 17,
   "metadata": {},
   "outputs": [
    {
     "data": {
      "text/html": [
       "<div>\n",
       "<style scoped>\n",
       "    .dataframe tbody tr th:only-of-type {\n",
       "        vertical-align: middle;\n",
       "    }\n",
       "\n",
       "    .dataframe tbody tr th {\n",
       "        vertical-align: top;\n",
       "    }\n",
       "\n",
       "    .dataframe thead th {\n",
       "        text-align: right;\n",
       "    }\n",
       "</style>\n",
       "<table border=\"1\" class=\"dataframe\">\n",
       "  <thead>\n",
       "    <tr style=\"text-align: right;\">\n",
       "      <th></th>\n",
       "      <th>win_%_0809</th>\n",
       "      <th>win_%_0910</th>\n",
       "      <th>win_%_1011</th>\n",
       "      <th>win_%_1112</th>\n",
       "    </tr>\n",
       "  </thead>\n",
       "  <tbody>\n",
       "    <tr>\n",
       "      <th>Arsenal</th>\n",
       "      <td>0.526316</td>\n",
       "      <td>0.605263</td>\n",
       "      <td>0.500000</td>\n",
       "      <td>0.552632</td>\n",
       "    </tr>\n",
       "    <tr>\n",
       "      <th>Aston Villa</th>\n",
       "      <td>0.447368</td>\n",
       "      <td>0.447368</td>\n",
       "      <td>0.315789</td>\n",
       "      <td>0.184211</td>\n",
       "    </tr>\n",
       "    <tr>\n",
       "      <th>Blackburn Rovers</th>\n",
       "      <td>0.263158</td>\n",
       "      <td>0.342105</td>\n",
       "      <td>0.289474</td>\n",
       "      <td>0.210526</td>\n",
       "    </tr>\n",
       "    <tr>\n",
       "      <th>Bolton Wanderers</th>\n",
       "      <td>0.289474</td>\n",
       "      <td>0.263158</td>\n",
       "      <td>0.315789</td>\n",
       "      <td>0.263158</td>\n",
       "    </tr>\n",
       "    <tr>\n",
       "      <th>Chelsea</th>\n",
       "      <td>0.657895</td>\n",
       "      <td>0.710526</td>\n",
       "      <td>0.552632</td>\n",
       "      <td>0.473684</td>\n",
       "    </tr>\n",
       "  </tbody>\n",
       "</table>\n",
       "</div>"
      ],
      "text/plain": [
       "                  win_%_0809  win_%_0910  win_%_1011  win_%_1112\n",
       "Arsenal             0.526316    0.605263    0.500000    0.552632\n",
       "Aston Villa         0.447368    0.447368    0.315789    0.184211\n",
       "Blackburn Rovers    0.263158    0.342105    0.289474    0.210526\n",
       "Bolton Wanderers    0.289474    0.263158    0.315789    0.263158\n",
       "Chelsea             0.657895    0.710526    0.552632    0.473684"
      ]
     },
     "execution_count": 17,
     "metadata": {},
     "output_type": "execute_result"
    }
   ],
   "source": [
    "reset_dataFrame(temp)\n",
    "df_1112_temp = season_results.query('season == \"2011/2012\"')\n",
    "temp = df_1112_temp['home_team_name'].value_counts() + df_1112_temp['away_team_name'].value_counts()\n",
    "temp = pd.DataFrame(temp)\n",
    "temp.columns = ['games_played']\n",
    "df_1112_temp = df_1112_temp.query('winning_team != \"draw\"')\n",
    "temp['games_won'] = df_1112_temp['winning_team'].value_counts()\n",
    "temp['win_%_1112'] = temp['games_won'] / temp['games_played']\n",
    "league_data['win_%_1112'] = temp['win_%_1112']\n",
    "league_data.head()"
   ]
  },
  {
   "cell_type": "code",
   "execution_count": 18,
   "metadata": {},
   "outputs": [
    {
     "data": {
      "text/html": [
       "<div>\n",
       "<style scoped>\n",
       "    .dataframe tbody tr th:only-of-type {\n",
       "        vertical-align: middle;\n",
       "    }\n",
       "\n",
       "    .dataframe tbody tr th {\n",
       "        vertical-align: top;\n",
       "    }\n",
       "\n",
       "    .dataframe thead th {\n",
       "        text-align: right;\n",
       "    }\n",
       "</style>\n",
       "<table border=\"1\" class=\"dataframe\">\n",
       "  <thead>\n",
       "    <tr style=\"text-align: right;\">\n",
       "      <th></th>\n",
       "      <th>win_%_0809</th>\n",
       "      <th>win_%_0910</th>\n",
       "      <th>win_%_1011</th>\n",
       "      <th>win_%_1112</th>\n",
       "      <th>win_%_1213</th>\n",
       "    </tr>\n",
       "  </thead>\n",
       "  <tbody>\n",
       "    <tr>\n",
       "      <th>Arsenal</th>\n",
       "      <td>0.526316</td>\n",
       "      <td>0.605263</td>\n",
       "      <td>0.500000</td>\n",
       "      <td>0.552632</td>\n",
       "      <td>0.552632</td>\n",
       "    </tr>\n",
       "    <tr>\n",
       "      <th>Aston Villa</th>\n",
       "      <td>0.447368</td>\n",
       "      <td>0.447368</td>\n",
       "      <td>0.315789</td>\n",
       "      <td>0.184211</td>\n",
       "      <td>0.263158</td>\n",
       "    </tr>\n",
       "    <tr>\n",
       "      <th>Blackburn Rovers</th>\n",
       "      <td>0.263158</td>\n",
       "      <td>0.342105</td>\n",
       "      <td>0.289474</td>\n",
       "      <td>0.210526</td>\n",
       "      <td>NaN</td>\n",
       "    </tr>\n",
       "    <tr>\n",
       "      <th>Bolton Wanderers</th>\n",
       "      <td>0.289474</td>\n",
       "      <td>0.263158</td>\n",
       "      <td>0.315789</td>\n",
       "      <td>0.263158</td>\n",
       "      <td>NaN</td>\n",
       "    </tr>\n",
       "    <tr>\n",
       "      <th>Chelsea</th>\n",
       "      <td>0.657895</td>\n",
       "      <td>0.710526</td>\n",
       "      <td>0.552632</td>\n",
       "      <td>0.473684</td>\n",
       "      <td>0.578947</td>\n",
       "    </tr>\n",
       "  </tbody>\n",
       "</table>\n",
       "</div>"
      ],
      "text/plain": [
       "                  win_%_0809  win_%_0910  win_%_1011  win_%_1112  win_%_1213\n",
       "Arsenal             0.526316    0.605263    0.500000    0.552632    0.552632\n",
       "Aston Villa         0.447368    0.447368    0.315789    0.184211    0.263158\n",
       "Blackburn Rovers    0.263158    0.342105    0.289474    0.210526         NaN\n",
       "Bolton Wanderers    0.289474    0.263158    0.315789    0.263158         NaN\n",
       "Chelsea             0.657895    0.710526    0.552632    0.473684    0.578947"
      ]
     },
     "execution_count": 18,
     "metadata": {},
     "output_type": "execute_result"
    }
   ],
   "source": [
    "reset_dataFrame(temp)\n",
    "df_1213_temp = season_results.query('season == \"2012/2013\"')\n",
    "temp = df_1213_temp['home_team_name'].value_counts() + df_1213_temp['away_team_name'].value_counts()\n",
    "temp = pd.DataFrame(temp)\n",
    "temp.columns = ['games_played']\n",
    "df_1213_temp = df_1213_temp.query('winning_team != \"draw\"')\n",
    "temp['games_won'] = df_1213_temp['winning_team'].value_counts()\n",
    "temp['win_%_1213'] = temp['games_won'] / temp['games_played']\n",
    "league_data['win_%_1213'] = temp['win_%_1213']\n",
    "league_data.head()"
   ]
  },
  {
   "cell_type": "code",
   "execution_count": 19,
   "metadata": {},
   "outputs": [
    {
     "data": {
      "text/html": [
       "<div>\n",
       "<style scoped>\n",
       "    .dataframe tbody tr th:only-of-type {\n",
       "        vertical-align: middle;\n",
       "    }\n",
       "\n",
       "    .dataframe tbody tr th {\n",
       "        vertical-align: top;\n",
       "    }\n",
       "\n",
       "    .dataframe thead th {\n",
       "        text-align: right;\n",
       "    }\n",
       "</style>\n",
       "<table border=\"1\" class=\"dataframe\">\n",
       "  <thead>\n",
       "    <tr style=\"text-align: right;\">\n",
       "      <th></th>\n",
       "      <th>win_%_0809</th>\n",
       "      <th>win_%_0910</th>\n",
       "      <th>win_%_1011</th>\n",
       "      <th>win_%_1112</th>\n",
       "      <th>win_%_1213</th>\n",
       "      <th>win_%_1314</th>\n",
       "    </tr>\n",
       "  </thead>\n",
       "  <tbody>\n",
       "    <tr>\n",
       "      <th>Arsenal</th>\n",
       "      <td>0.526316</td>\n",
       "      <td>0.605263</td>\n",
       "      <td>0.500000</td>\n",
       "      <td>0.552632</td>\n",
       "      <td>0.552632</td>\n",
       "      <td>0.631579</td>\n",
       "    </tr>\n",
       "    <tr>\n",
       "      <th>Aston Villa</th>\n",
       "      <td>0.447368</td>\n",
       "      <td>0.447368</td>\n",
       "      <td>0.315789</td>\n",
       "      <td>0.184211</td>\n",
       "      <td>0.263158</td>\n",
       "      <td>0.263158</td>\n",
       "    </tr>\n",
       "    <tr>\n",
       "      <th>Blackburn Rovers</th>\n",
       "      <td>0.263158</td>\n",
       "      <td>0.342105</td>\n",
       "      <td>0.289474</td>\n",
       "      <td>0.210526</td>\n",
       "      <td>NaN</td>\n",
       "      <td>NaN</td>\n",
       "    </tr>\n",
       "    <tr>\n",
       "      <th>Bolton Wanderers</th>\n",
       "      <td>0.289474</td>\n",
       "      <td>0.263158</td>\n",
       "      <td>0.315789</td>\n",
       "      <td>0.263158</td>\n",
       "      <td>NaN</td>\n",
       "      <td>NaN</td>\n",
       "    </tr>\n",
       "    <tr>\n",
       "      <th>Chelsea</th>\n",
       "      <td>0.657895</td>\n",
       "      <td>0.710526</td>\n",
       "      <td>0.552632</td>\n",
       "      <td>0.473684</td>\n",
       "      <td>0.578947</td>\n",
       "      <td>0.657895</td>\n",
       "    </tr>\n",
       "  </tbody>\n",
       "</table>\n",
       "</div>"
      ],
      "text/plain": [
       "                  win_%_0809  win_%_0910  win_%_1011  win_%_1112  win_%_1213  \\\n",
       "Arsenal             0.526316    0.605263    0.500000    0.552632    0.552632   \n",
       "Aston Villa         0.447368    0.447368    0.315789    0.184211    0.263158   \n",
       "Blackburn Rovers    0.263158    0.342105    0.289474    0.210526         NaN   \n",
       "Bolton Wanderers    0.289474    0.263158    0.315789    0.263158         NaN   \n",
       "Chelsea             0.657895    0.710526    0.552632    0.473684    0.578947   \n",
       "\n",
       "                  win_%_1314  \n",
       "Arsenal             0.631579  \n",
       "Aston Villa         0.263158  \n",
       "Blackburn Rovers         NaN  \n",
       "Bolton Wanderers         NaN  \n",
       "Chelsea             0.657895  "
      ]
     },
     "execution_count": 19,
     "metadata": {},
     "output_type": "execute_result"
    }
   ],
   "source": [
    "reset_dataFrame(temp)\n",
    "df_1314_temp = season_results.query('season == \"2013/2014\"')\n",
    "temp = df_1314_temp['home_team_name'].value_counts() + df_1314_temp['away_team_name'].value_counts()\n",
    "temp = pd.DataFrame(temp)\n",
    "temp.columns = ['games_played']\n",
    "df_1314_temp = df_1314_temp.query('winning_team != \"draw\"')\n",
    "temp['games_won'] = df_1314_temp['winning_team'].value_counts()\n",
    "temp['win_%_1314'] = temp['games_won'] / temp['games_played']\n",
    "league_data['win_%_1314'] = temp['win_%_1314']\n",
    "league_data.head()"
   ]
  },
  {
   "cell_type": "code",
   "execution_count": 20,
   "metadata": {},
   "outputs": [
    {
     "data": {
      "text/html": [
       "<div>\n",
       "<style scoped>\n",
       "    .dataframe tbody tr th:only-of-type {\n",
       "        vertical-align: middle;\n",
       "    }\n",
       "\n",
       "    .dataframe tbody tr th {\n",
       "        vertical-align: top;\n",
       "    }\n",
       "\n",
       "    .dataframe thead th {\n",
       "        text-align: right;\n",
       "    }\n",
       "</style>\n",
       "<table border=\"1\" class=\"dataframe\">\n",
       "  <thead>\n",
       "    <tr style=\"text-align: right;\">\n",
       "      <th></th>\n",
       "      <th>win_%_0809</th>\n",
       "      <th>win_%_0910</th>\n",
       "      <th>win_%_1011</th>\n",
       "      <th>win_%_1112</th>\n",
       "      <th>win_%_1213</th>\n",
       "      <th>win_%_1314</th>\n",
       "      <th>win_%_1415</th>\n",
       "    </tr>\n",
       "  </thead>\n",
       "  <tbody>\n",
       "    <tr>\n",
       "      <th>Arsenal</th>\n",
       "      <td>0.526316</td>\n",
       "      <td>0.605263</td>\n",
       "      <td>0.500000</td>\n",
       "      <td>0.552632</td>\n",
       "      <td>0.552632</td>\n",
       "      <td>0.631579</td>\n",
       "      <td>0.578947</td>\n",
       "    </tr>\n",
       "    <tr>\n",
       "      <th>Aston Villa</th>\n",
       "      <td>0.447368</td>\n",
       "      <td>0.447368</td>\n",
       "      <td>0.315789</td>\n",
       "      <td>0.184211</td>\n",
       "      <td>0.263158</td>\n",
       "      <td>0.263158</td>\n",
       "      <td>0.263158</td>\n",
       "    </tr>\n",
       "    <tr>\n",
       "      <th>Blackburn Rovers</th>\n",
       "      <td>0.263158</td>\n",
       "      <td>0.342105</td>\n",
       "      <td>0.289474</td>\n",
       "      <td>0.210526</td>\n",
       "      <td>NaN</td>\n",
       "      <td>NaN</td>\n",
       "      <td>NaN</td>\n",
       "    </tr>\n",
       "    <tr>\n",
       "      <th>Bolton Wanderers</th>\n",
       "      <td>0.289474</td>\n",
       "      <td>0.263158</td>\n",
       "      <td>0.315789</td>\n",
       "      <td>0.263158</td>\n",
       "      <td>NaN</td>\n",
       "      <td>NaN</td>\n",
       "      <td>NaN</td>\n",
       "    </tr>\n",
       "    <tr>\n",
       "      <th>Chelsea</th>\n",
       "      <td>0.657895</td>\n",
       "      <td>0.710526</td>\n",
       "      <td>0.552632</td>\n",
       "      <td>0.473684</td>\n",
       "      <td>0.578947</td>\n",
       "      <td>0.657895</td>\n",
       "      <td>0.684211</td>\n",
       "    </tr>\n",
       "  </tbody>\n",
       "</table>\n",
       "</div>"
      ],
      "text/plain": [
       "                  win_%_0809  win_%_0910  win_%_1011  win_%_1112  win_%_1213  \\\n",
       "Arsenal             0.526316    0.605263    0.500000    0.552632    0.552632   \n",
       "Aston Villa         0.447368    0.447368    0.315789    0.184211    0.263158   \n",
       "Blackburn Rovers    0.263158    0.342105    0.289474    0.210526         NaN   \n",
       "Bolton Wanderers    0.289474    0.263158    0.315789    0.263158         NaN   \n",
       "Chelsea             0.657895    0.710526    0.552632    0.473684    0.578947   \n",
       "\n",
       "                  win_%_1314  win_%_1415  \n",
       "Arsenal             0.631579    0.578947  \n",
       "Aston Villa         0.263158    0.263158  \n",
       "Blackburn Rovers         NaN         NaN  \n",
       "Bolton Wanderers         NaN         NaN  \n",
       "Chelsea             0.657895    0.684211  "
      ]
     },
     "execution_count": 20,
     "metadata": {},
     "output_type": "execute_result"
    }
   ],
   "source": [
    "reset_dataFrame(temp)\n",
    "df_1415_temp = season_results.query('season == \"2014/2015\"')\n",
    "temp = df_1415_temp['home_team_name'].value_counts() + df_1415_temp['away_team_name'].value_counts()\n",
    "temp = pd.DataFrame(temp)\n",
    "temp.columns = ['games_played']\n",
    "df_1415_temp = df_1415_temp.query('winning_team != \"draw\"')\n",
    "temp['games_won'] = df_1415_temp['winning_team'].value_counts()\n",
    "temp['win_%_1415'] = temp['games_won'] / temp['games_played']\n",
    "league_data['win_%_1415'] = temp['win_%_1415']\n",
    "league_data.head()"
   ]
  },
  {
   "cell_type": "code",
   "execution_count": 21,
   "metadata": {},
   "outputs": [
    {
     "name": "stdout",
     "output_type": "stream",
     "text": [
      "<class 'pandas.core.frame.DataFrame'>\n",
      "Index: 20 entries, Arsenal to Wigan Athletic\n",
      "Data columns (total 8 columns):\n",
      "win_%_0809    20 non-null float64\n",
      "win_%_0910    17 non-null float64\n",
      "win_%_1011    17 non-null float64\n",
      "win_%_1112    16 non-null float64\n",
      "win_%_1213    15 non-null float64\n",
      "win_%_1314    15 non-null float64\n",
      "win_%_1415    14 non-null float64\n",
      "win_%_1516    13 non-null float64\n",
      "dtypes: float64(8)\n",
      "memory usage: 1.4+ KB\n"
     ]
    }
   ],
   "source": [
    "reset_dataFrame(temp)\n",
    "df_1516_temp = season_results.query('season == \"2015/2016\"')\n",
    "temp = df_1516_temp['home_team_name'].value_counts() + df_1516_temp['away_team_name'].value_counts()\n",
    "temp = pd.DataFrame(temp)\n",
    "temp.columns = ['games_played']\n",
    "df_1516_temp = df_1516_temp.query('winning_team != \"draw\"')\n",
    "temp['games_won'] = df_1516_temp['winning_team'].value_counts()\n",
    "temp['win_%_1516'] = temp['games_won'] / temp['games_played']\n",
    "league_data['win_%_1516'] = temp['win_%_1516']\n",
    "league_data.info()"
   ]
  },
  {
   "cell_type": "markdown",
   "metadata": {},
   "source": [
    "> I looked at the whole dataframe in order to see if there was any NaN values and how to deal with them. Once I saw there were NaN's present it looked as though certain teams did not remain in the premier league for the entirety of the dataset. I dropped these teams as they could have skewed results due to less seasons played. I graphed the results as a bar chart in order to see how teams trended from season to seaon and get a better understanding of their improvement or lack of improvement."
   ]
  },
  {
   "cell_type": "code",
   "execution_count": 22,
   "metadata": {},
   "outputs": [
    {
     "data": {
      "image/png": "[encoded data removed]",
      "text/plain": [
       "<matplotlib.figure.Figure at 0x7f13eeadffd0>"
      ]
     },
     "metadata": {
      "needs_background": "light"
     },
     "output_type": "display_data"
    }
   ],
   "source": [
    "league_data.dropna(inplace=True)\n",
    "league_data.plot.bar(figsize=(10,10))\n",
    "plt.xlabel(\"Team\")\n",
    "plt.ylabel(\"Win Percentage\")\n",
    "plt.title(\"Win Percentage by Team 2008/2009-2015/2016 Seaons\");"
   ]
  },
  {
   "cell_type": "markdown",
   "metadata": {},
   "source": [
    "> After looking at the bar chart data I though it would be best to '+/-' the team's win percentage to see how much each team improved compared to their initial season. I graphed the '+/-' in bar chart form to tell who improved the most over the course of the dataset."
   ]
  },
  {
   "cell_type": "code",
   "execution_count": 23,
   "metadata": {},
   "outputs": [
    {
     "data": {
      "image/png": "[encoded data removed]",
      "text/plain": [
       "<matplotlib.figure.Figure at 0x7f13ec72ac18>"
      ]
     },
     "metadata": {
      "needs_background": "light"
     },
     "output_type": "display_data"
    }
   ],
   "source": [
    "league_data['win_%_+/-_since_0809'] = league_data.sum(axis=1) - (8*league_data['win_%_0809'])\n",
    "league_data['win_%_+/-_since_0809'].plot.bar(figsize=(10,10))\n",
    "plt.xlabel(\"Team\")\n",
    "plt.ylabel(\"Sum of Win Percentage +/- 2008/2009-2015/2016 Seasons\")\n",
    "plt.title(\"Win Percentage +/- by Team 2008/2009-2015/2016 Seasons\");"
   ]
  },
  {
   "cell_type": "markdown",
   "metadata": {},
   "source": [
    "> The visual is showing that Manchester City has increased their win percentage the most since the start of the data, meaning they have improved the most over the course of the data."
   ]
  },
  {
   "cell_type": "markdown",
   "metadata": {},
   "source": [
    "### Research Question 2: Does scoring the most goals per game lead to winning?"
   ]
  },
  {
   "cell_type": "markdown",
   "metadata": {},
   "source": [
    "> In order to begin looking at data from the match_results dataframe, I needed to aggregate to get the data I wanted."
   ]
  },
  {
   "cell_type": "code",
   "execution_count": 24,
   "metadata": {},
   "outputs": [
    {
     "data": {
      "text/html": [
       "<div>\n",
       "<style scoped>\n",
       "    .dataframe tbody tr th:only-of-type {\n",
       "        vertical-align: middle;\n",
       "    }\n",
       "\n",
       "    .dataframe tbody tr th {\n",
       "        vertical-align: top;\n",
       "    }\n",
       "\n",
       "    .dataframe thead th {\n",
       "        text-align: right;\n",
       "    }\n",
       "</style>\n",
       "<table border=\"1\" class=\"dataframe\">\n",
       "  <thead>\n",
       "    <tr style=\"text-align: right;\">\n",
       "      <th></th>\n",
       "      <th>home_team_goal</th>\n",
       "    </tr>\n",
       "    <tr>\n",
       "      <th>home_team_name</th>\n",
       "      <th></th>\n",
       "    </tr>\n",
       "  </thead>\n",
       "  <tbody>\n",
       "    <tr>\n",
       "      <th>Arsenal</th>\n",
       "      <td>306</td>\n",
       "    </tr>\n",
       "    <tr>\n",
       "      <th>Aston Villa</th>\n",
       "      <td>179</td>\n",
       "    </tr>\n",
       "    <tr>\n",
       "      <th>Birmingham City</th>\n",
       "      <td>38</td>\n",
       "    </tr>\n",
       "    <tr>\n",
       "      <th>Blackburn Rovers</th>\n",
       "      <td>98</td>\n",
       "    </tr>\n",
       "    <tr>\n",
       "      <th>Blackpool</th>\n",
       "      <td>30</td>\n",
       "    </tr>\n",
       "  </tbody>\n",
       "</table>\n",
       "</div>"
      ],
      "text/plain": [
       "                  home_team_goal\n",
       "home_team_name                  \n",
       "Arsenal                      306\n",
       "Aston Villa                  179\n",
       "Birmingham City               38\n",
       "Blackburn Rovers              98\n",
       "Blackpool                     30"
      ]
     },
     "execution_count": 24,
     "metadata": {},
     "output_type": "execute_result"
    }
   ],
   "source": [
    "goals_home_data = match_results.groupby([\"home_team_name\"]).home_team_goal.sum()\n",
    "goals_home_data = pd.DataFrame(goals_home_data)\n",
    "goals_home_data.head()"
   ]
  },
  {
   "cell_type": "markdown",
   "metadata": {},
   "source": [
    "> After the aggregation for the home team match data, I performed the same thing on the away team match data."
   ]
  },
  {
   "cell_type": "code",
   "execution_count": 25,
   "metadata": {},
   "outputs": [
    {
     "data": {
      "text/html": [
       "<div>\n",
       "<style scoped>\n",
       "    .dataframe tbody tr th:only-of-type {\n",
       "        vertical-align: middle;\n",
       "    }\n",
       "\n",
       "    .dataframe tbody tr th {\n",
       "        vertical-align: top;\n",
       "    }\n",
       "\n",
       "    .dataframe thead th {\n",
       "        text-align: right;\n",
       "    }\n",
       "</style>\n",
       "<table border=\"1\" class=\"dataframe\">\n",
       "  <thead>\n",
       "    <tr style=\"text-align: right;\">\n",
       "      <th></th>\n",
       "      <th>away_team_goal</th>\n",
       "    </tr>\n",
       "    <tr>\n",
       "      <th>home_team_name</th>\n",
       "      <th></th>\n",
       "    </tr>\n",
       "  </thead>\n",
       "  <tbody>\n",
       "    <tr>\n",
       "      <th>Arsenal</th>\n",
       "      <td>267</td>\n",
       "    </tr>\n",
       "    <tr>\n",
       "      <th>Aston Villa</th>\n",
       "      <td>156</td>\n",
       "    </tr>\n",
       "    <tr>\n",
       "      <th>Birmingham City</th>\n",
       "      <td>37</td>\n",
       "    </tr>\n",
       "    <tr>\n",
       "      <th>Blackburn Rovers</th>\n",
       "      <td>77</td>\n",
       "    </tr>\n",
       "    <tr>\n",
       "      <th>Blackpool</th>\n",
       "      <td>25</td>\n",
       "    </tr>\n",
       "  </tbody>\n",
       "</table>\n",
       "</div>"
      ],
      "text/plain": [
       "                  away_team_goal\n",
       "home_team_name                  \n",
       "Arsenal                      267\n",
       "Aston Villa                  156\n",
       "Birmingham City               37\n",
       "Blackburn Rovers              77\n",
       "Blackpool                     25"
      ]
     },
     "execution_count": 25,
     "metadata": {},
     "output_type": "execute_result"
    }
   ],
   "source": [
    "goals_away_data = match_results.groupby([\"away_team_name\"]).away_team_goal.sum()\n",
    "goals_away_data = pd.DataFrame(goals_away_data)\n",
    "goals_away_data.index.rename('home_team_name', inplace=True)\n",
    "goals_away_data.head()"
   ]
  },
  {
   "cell_type": "markdown",
   "metadata": {},
   "source": [
    "> I then joined the data and added the goals together to create a cleaner table of total goals by team."
   ]
  },
  {
   "cell_type": "code",
   "execution_count": 26,
   "metadata": {},
   "outputs": [
    {
     "data": {
      "text/html": [
       "<div>\n",
       "<style scoped>\n",
       "    .dataframe tbody tr th:only-of-type {\n",
       "        vertical-align: middle;\n",
       "    }\n",
       "\n",
       "    .dataframe tbody tr th {\n",
       "        vertical-align: top;\n",
       "    }\n",
       "\n",
       "    .dataframe thead th {\n",
       "        text-align: right;\n",
       "    }\n",
       "</style>\n",
       "<table border=\"1\" class=\"dataframe\">\n",
       "  <thead>\n",
       "    <tr style=\"text-align: right;\">\n",
       "      <th></th>\n",
       "      <th>total_goals</th>\n",
       "    </tr>\n",
       "    <tr>\n",
       "      <th>home_team_name</th>\n",
       "      <th></th>\n",
       "    </tr>\n",
       "  </thead>\n",
       "  <tbody>\n",
       "    <tr>\n",
       "      <th>Arsenal</th>\n",
       "      <td>573</td>\n",
       "    </tr>\n",
       "    <tr>\n",
       "      <th>Aston Villa</th>\n",
       "      <td>335</td>\n",
       "    </tr>\n",
       "    <tr>\n",
       "      <th>Birmingham City</th>\n",
       "      <td>75</td>\n",
       "    </tr>\n",
       "    <tr>\n",
       "      <th>Blackburn Rovers</th>\n",
       "      <td>175</td>\n",
       "    </tr>\n",
       "    <tr>\n",
       "      <th>Blackpool</th>\n",
       "      <td>55</td>\n",
       "    </tr>\n",
       "  </tbody>\n",
       "</table>\n",
       "</div>"
      ],
      "text/plain": [
       "                  total_goals\n",
       "home_team_name               \n",
       "Arsenal                   573\n",
       "Aston Villa               335\n",
       "Birmingham City            75\n",
       "Blackburn Rovers          175\n",
       "Blackpool                  55"
      ]
     },
     "execution_count": 26,
     "metadata": {},
     "output_type": "execute_result"
    }
   ],
   "source": [
    "goals_home_data = goals_home_data.join(goals_away_data)\n",
    "goals_home_data['total_goals'] = goals_home_data['home_team_goal'] + goals_home_data['away_team_goal']\n",
    "goals_home_data.drop(columns={'home_team_goal', 'away_team_goal'}, inplace=True)\n",
    "goals_home_data.head()"
   ]
  },
  {
   "cell_type": "markdown",
   "metadata": {},
   "source": [
    "> The next step is to look again at the total games palyed and the total games won."
   ]
  },
  {
   "cell_type": "code",
   "execution_count": 27,
   "metadata": {},
   "outputs": [
    {
     "data": {
      "text/html": [
       "<div>\n",
       "<style scoped>\n",
       "    .dataframe tbody tr th:only-of-type {\n",
       "        vertical-align: middle;\n",
       "    }\n",
       "\n",
       "    .dataframe tbody tr th {\n",
       "        vertical-align: top;\n",
       "    }\n",
       "\n",
       "    .dataframe thead th {\n",
       "        text-align: right;\n",
       "    }\n",
       "</style>\n",
       "<table border=\"1\" class=\"dataframe\">\n",
       "  <thead>\n",
       "    <tr style=\"text-align: right;\">\n",
       "      <th></th>\n",
       "      <th>games_played</th>\n",
       "    </tr>\n",
       "    <tr>\n",
       "      <th>home_team_name</th>\n",
       "      <th></th>\n",
       "    </tr>\n",
       "  </thead>\n",
       "  <tbody>\n",
       "    <tr>\n",
       "      <th>Arsenal</th>\n",
       "      <td>304</td>\n",
       "    </tr>\n",
       "    <tr>\n",
       "      <th>Aston Villa</th>\n",
       "      <td>304</td>\n",
       "    </tr>\n",
       "    <tr>\n",
       "      <th>Birmingham City</th>\n",
       "      <td>76</td>\n",
       "    </tr>\n",
       "    <tr>\n",
       "      <th>Blackburn Rovers</th>\n",
       "      <td>152</td>\n",
       "    </tr>\n",
       "    <tr>\n",
       "      <th>Blackpool</th>\n",
       "      <td>38</td>\n",
       "    </tr>\n",
       "  </tbody>\n",
       "</table>\n",
       "</div>"
      ],
      "text/plain": [
       "                  games_played\n",
       "home_team_name                \n",
       "Arsenal                    304\n",
       "Aston Villa                304\n",
       "Birmingham City             76\n",
       "Blackburn Rovers           152\n",
       "Blackpool                   38"
      ]
     },
     "execution_count": 27,
     "metadata": {},
     "output_type": "execute_result"
    }
   ],
   "source": [
    "total_games = match_results['home_team_name'].value_counts() + match_results['away_team_name'].value_counts()\n",
    "total_games = pd.DataFrame(total_games)\n",
    "total_games.columns = ['games_played']\n",
    "total_games.index.rename('home_team_name', inplace=True)\n",
    "total_games.head()"
   ]
  },
  {
   "cell_type": "markdown",
   "metadata": {},
   "source": [
    "> I once again joined the two dataframes together."
   ]
  },
  {
   "cell_type": "code",
   "execution_count": 28,
   "metadata": {},
   "outputs": [
    {
     "data": {
      "text/html": [
       "<div>\n",
       "<style scoped>\n",
       "    .dataframe tbody tr th:only-of-type {\n",
       "        vertical-align: middle;\n",
       "    }\n",
       "\n",
       "    .dataframe tbody tr th {\n",
       "        vertical-align: top;\n",
       "    }\n",
       "\n",
       "    .dataframe thead th {\n",
       "        text-align: right;\n",
       "    }\n",
       "</style>\n",
       "<table border=\"1\" class=\"dataframe\">\n",
       "  <thead>\n",
       "    <tr style=\"text-align: right;\">\n",
       "      <th></th>\n",
       "      <th>total_goals</th>\n",
       "      <th>games_played</th>\n",
       "      <th>games_won</th>\n",
       "    </tr>\n",
       "    <tr>\n",
       "      <th>home_team_name</th>\n",
       "      <th></th>\n",
       "      <th></th>\n",
       "      <th></th>\n",
       "    </tr>\n",
       "  </thead>\n",
       "  <tbody>\n",
       "    <tr>\n",
       "      <th>Arsenal</th>\n",
       "      <td>573</td>\n",
       "      <td>304</td>\n",
       "      <td>170</td>\n",
       "    </tr>\n",
       "    <tr>\n",
       "      <th>Aston Villa</th>\n",
       "      <td>335</td>\n",
       "      <td>304</td>\n",
       "      <td>86</td>\n",
       "    </tr>\n",
       "    <tr>\n",
       "      <th>Birmingham City</th>\n",
       "      <td>75</td>\n",
       "      <td>76</td>\n",
       "      <td>21</td>\n",
       "    </tr>\n",
       "    <tr>\n",
       "      <th>Blackburn Rovers</th>\n",
       "      <td>175</td>\n",
       "      <td>152</td>\n",
       "      <td>42</td>\n",
       "    </tr>\n",
       "    <tr>\n",
       "      <th>Blackpool</th>\n",
       "      <td>55</td>\n",
       "      <td>38</td>\n",
       "      <td>10</td>\n",
       "    </tr>\n",
       "  </tbody>\n",
       "</table>\n",
       "</div>"
      ],
      "text/plain": [
       "                  total_goals  games_played  games_won\n",
       "home_team_name                                        \n",
       "Arsenal                   573           304        170\n",
       "Aston Villa               335           304         86\n",
       "Birmingham City            75            76         21\n",
       "Blackburn Rovers          175           152         42\n",
       "Blackpool                  55            38         10"
      ]
     },
     "execution_count": 28,
     "metadata": {},
     "output_type": "execute_result"
    }
   ],
   "source": [
    "total_games['games_won'] = match_results['winning_team'].value_counts()\n",
    "goals_home_data = goals_home_data.join(total_games)\n",
    "goals_home_data.head()"
   ]
  },
  {
   "cell_type": "code",
   "execution_count": 29,
   "metadata": {},
   "outputs": [
    {
     "name": "stdout",
     "output_type": "stream",
     "text": [
      "<class 'pandas.core.frame.DataFrame'>\n",
      "Index: 34 entries, Arsenal to Wolverhampton Wanderers\n",
      "Data columns (total 3 columns):\n",
      "total_goals     34 non-null int64\n",
      "games_played    34 non-null int64\n",
      "games_won       34 non-null int64\n",
      "dtypes: int64(3)\n",
      "memory usage: 2.3+ KB\n"
     ]
    }
   ],
   "source": [
    "goals_home_data.info()"
   ]
  },
  {
   "cell_type": "code",
   "execution_count": 30,
   "metadata": {},
   "outputs": [
    {
     "data": {
      "text/html": [
       "<div>\n",
       "<style scoped>\n",
       "    .dataframe tbody tr th:only-of-type {\n",
       "        vertical-align: middle;\n",
       "    }\n",
       "\n",
       "    .dataframe tbody tr th {\n",
       "        vertical-align: top;\n",
       "    }\n",
       "\n",
       "    .dataframe thead th {\n",
       "        text-align: right;\n",
       "    }\n",
       "</style>\n",
       "<table border=\"1\" class=\"dataframe\">\n",
       "  <thead>\n",
       "    <tr style=\"text-align: right;\">\n",
       "      <th></th>\n",
       "      <th>total_goals</th>\n",
       "      <th>games_played</th>\n",
       "      <th>games_won</th>\n",
       "    </tr>\n",
       "    <tr>\n",
       "      <th>home_team_name</th>\n",
       "      <th></th>\n",
       "      <th></th>\n",
       "      <th></th>\n",
       "    </tr>\n",
       "  </thead>\n",
       "  <tbody>\n",
       "    <tr>\n",
       "      <th>Arsenal</th>\n",
       "      <td>573</td>\n",
       "      <td>304</td>\n",
       "      <td>170</td>\n",
       "    </tr>\n",
       "    <tr>\n",
       "      <th>Aston Villa</th>\n",
       "      <td>335</td>\n",
       "      <td>304</td>\n",
       "      <td>86</td>\n",
       "    </tr>\n",
       "    <tr>\n",
       "      <th>Chelsea</th>\n",
       "      <td>583</td>\n",
       "      <td>304</td>\n",
       "      <td>176</td>\n",
       "    </tr>\n",
       "    <tr>\n",
       "      <th>Everton</th>\n",
       "      <td>439</td>\n",
       "      <td>304</td>\n",
       "      <td>121</td>\n",
       "    </tr>\n",
       "    <tr>\n",
       "      <th>Liverpool</th>\n",
       "      <td>531</td>\n",
       "      <td>304</td>\n",
       "      <td>150</td>\n",
       "    </tr>\n",
       "  </tbody>\n",
       "</table>\n",
       "</div>"
      ],
      "text/plain": [
       "                total_goals  games_played  games_won\n",
       "home_team_name                                      \n",
       "Arsenal                 573           304        170\n",
       "Aston Villa             335           304         86\n",
       "Chelsea                 583           304        176\n",
       "Everton                 439           304        121\n",
       "Liverpool               531           304        150"
      ]
     },
     "execution_count": 30,
     "metadata": {},
     "output_type": "execute_result"
    }
   ],
   "source": [
    "indexNames = goals_home_data[goals_home_data['games_played'] != 304].index\n",
    "goals_home_data.drop(indexNames, inplace=True)\n",
    "goals_home_data.head()"
   ]
  },
  {
   "cell_type": "markdown",
   "metadata": {},
   "source": [
    "> The next step was to compare and evaluate goals per game and win percentage, in order to eliminate bias or skewed data."
   ]
  },
  {
   "cell_type": "code",
   "execution_count": 31,
   "metadata": {},
   "outputs": [
    {
     "data": {
      "text/html": [
       "<div>\n",
       "<style scoped>\n",
       "    .dataframe tbody tr th:only-of-type {\n",
       "        vertical-align: middle;\n",
       "    }\n",
       "\n",
       "    .dataframe tbody tr th {\n",
       "        vertical-align: top;\n",
       "    }\n",
       "\n",
       "    .dataframe thead th {\n",
       "        text-align: right;\n",
       "    }\n",
       "</style>\n",
       "<table border=\"1\" class=\"dataframe\">\n",
       "  <thead>\n",
       "    <tr style=\"text-align: right;\">\n",
       "      <th></th>\n",
       "      <th>goals_per_game</th>\n",
       "      <th>win_percentage</th>\n",
       "    </tr>\n",
       "    <tr>\n",
       "      <th>team_name</th>\n",
       "      <th></th>\n",
       "      <th></th>\n",
       "    </tr>\n",
       "  </thead>\n",
       "  <tbody>\n",
       "    <tr>\n",
       "      <th>Arsenal</th>\n",
       "      <td>1.884868</td>\n",
       "      <td>0.559211</td>\n",
       "    </tr>\n",
       "    <tr>\n",
       "      <th>Aston Villa</th>\n",
       "      <td>1.101974</td>\n",
       "      <td>0.282895</td>\n",
       "    </tr>\n",
       "    <tr>\n",
       "      <th>Chelsea</th>\n",
       "      <td>1.917763</td>\n",
       "      <td>0.578947</td>\n",
       "    </tr>\n",
       "    <tr>\n",
       "      <th>Everton</th>\n",
       "      <td>1.444079</td>\n",
       "      <td>0.398026</td>\n",
       "    </tr>\n",
       "    <tr>\n",
       "      <th>Liverpool</th>\n",
       "      <td>1.746711</td>\n",
       "      <td>0.493421</td>\n",
       "    </tr>\n",
       "  </tbody>\n",
       "</table>\n",
       "</div>"
      ],
      "text/plain": [
       "             goals_per_game  win_percentage\n",
       "team_name                                  \n",
       "Arsenal            1.884868        0.559211\n",
       "Aston Villa        1.101974        0.282895\n",
       "Chelsea            1.917763        0.578947\n",
       "Everton            1.444079        0.398026\n",
       "Liverpool          1.746711        0.493421"
      ]
     },
     "execution_count": 31,
     "metadata": {},
     "output_type": "execute_result"
    }
   ],
   "source": [
    "scoring_to_win_data = goals_home_data\n",
    "scoring_to_win_data.index.rename('team_name', inplace=True)\n",
    "scoring_to_win_data['goals_per_game'] = scoring_to_win_data['total_goals'] / scoring_to_win_data['games_played']\n",
    "scoring_to_win_data['win_percentage'] = scoring_to_win_data['games_won'] / scoring_to_win_data['games_played']\n",
    "scoring_to_win_data.drop(columns={'total_goals', 'games_played', 'games_won'}, inplace=True)\n",
    "scoring_to_win_data.head()"
   ]
  },
  {
   "cell_type": "markdown",
   "metadata": {},
   "source": [
    "> The dataframe was put together and cleaned, so I could create a scatterplot for analysis."
   ]
  },
  {
   "cell_type": "code",
   "execution_count": 32,
   "metadata": {},
   "outputs": [
    {
     "data": {
      "text/plain": [
       "count    10.000000\n",
       "mean      1.574013\n",
       "std       0.375693\n",
       "min       1.059211\n",
       "25%       1.187500\n",
       "50%       1.664474\n",
       "75%       1.907072\n",
       "max       1.993421\n",
       "Name: goals_per_game, dtype: float64"
      ]
     },
     "execution_count": 32,
     "metadata": {},
     "output_type": "execute_result"
    }
   ],
   "source": [
    "scoring_to_win_data['goals_per_game'].describe()"
   ]
  },
  {
   "cell_type": "markdown",
   "metadata": {},
   "source": [
    "> To analyze the goals_per_game column better I used the describe method to see the mean goals and the other quartiles. After doing the describe function it seems there may be some outliers, because the mean is lower than the median"
   ]
  },
  {
   "cell_type": "code",
   "execution_count": 33,
   "metadata": {},
   "outputs": [
    {
     "data": {
      "text/plain": [
       "Text(0.5,1,'Goals per game by Team')"
      ]
     },
     "execution_count": 33,
     "metadata": {},
     "output_type": "execute_result"
    },
    {
     "data": {
      "image/png": "[encoded data removed]",
      "text/plain": [
       "<matplotlib.figure.Figure at 0x7f13ec66f128>"
      ]
     },
     "metadata": {
      "needs_background": "light"
     },
     "output_type": "display_data"
    }
   ],
   "source": [
    "scoring_to_win_data['goals_per_game'].plot.bar(figsize=(10,10))\n",
    "plt.xlabel('team_name')\n",
    "plt.ylabel('goals_per_game')\n",
    "plt.title('Goals per game by Team')"
   ]
  },
  {
   "cell_type": "markdown",
   "metadata": {},
   "source": [
    "> It seems that Aston Villa, Stoke City, and Sunderland seem to be scoring significantly less goals than the rest of the teams. I want to look solely at the win percentage to see if the same teams stick out as outliers as well."
   ]
  },
  {
   "cell_type": "code",
   "execution_count": 34,
   "metadata": {},
   "outputs": [
    {
     "data": {
      "text/plain": [
       "count    10.000000\n",
       "mean      0.459539\n",
       "std       0.135318\n",
       "min       0.256579\n",
       "25%       0.341283\n",
       "50%       0.495066\n",
       "75%       0.571546\n",
       "max       0.631579\n",
       "Name: win_percentage, dtype: float64"
      ]
     },
     "execution_count": 34,
     "metadata": {},
     "output_type": "execute_result"
    }
   ],
   "source": [
    "scoring_to_win_data['win_percentage'].describe()"
   ]
  },
  {
   "cell_type": "code",
   "execution_count": 35,
   "metadata": {},
   "outputs": [
    {
     "data": {
      "text/plain": [
       "Text(0.5,1,'Win Percentage by Team')"
      ]
     },
     "execution_count": 35,
     "metadata": {},
     "output_type": "execute_result"
    },
    {
     "data": {
      "image/png": "[encoded data removed]",
      "text/plain": [
       "<matplotlib.figure.Figure at 0x7f13ec6a6438>"
      ]
     },
     "metadata": {
      "needs_background": "light"
     },
     "output_type": "display_data"
    }
   ],
   "source": [
    "scoring_to_win_data['win_percentage'].plot.bar(figsize=(10,10))\n",
    "plt.xlabel('team_name')\n",
    "plt.ylabel('win_percentage')\n",
    "plt.title('Win Percentage by Team')"
   ]
  },
  {
   "cell_type": "markdown",
   "metadata": {},
   "source": [
    "> Sunderland, Aston Villa, and Stoke City are outside of a standard deviation on the win percentage and goals per game so I am going to drop them from the data."
   ]
  },
  {
   "cell_type": "code",
   "execution_count": 36,
   "metadata": {},
   "outputs": [],
   "source": [
    "scoring_to_win_data.drop(\"Sunderland\", inplace=True)\n",
    "scoring_to_win_data.drop(\"Aston Villa\", inplace=True)\n",
    "scoring_to_win_data.drop(\"Stoke City\", inplace=True)"
   ]
  },
  {
   "cell_type": "markdown",
   "metadata": {},
   "source": [
    "> Dropping these teams will allow for analysis on the more winning teams throughout the league"
   ]
  },
  {
   "cell_type": "code",
   "execution_count": 37,
   "metadata": {},
   "outputs": [
    {
     "data": {
      "image/png": "[encoded data removed]",
      "text/plain": [
       "<matplotlib.figure.Figure at 0x7f13ec5ab518>"
      ]
     },
     "metadata": {
      "needs_background": "light"
     },
     "output_type": "display_data"
    }
   ],
   "source": [
    "scoring_to_win_data.plot.scatter(x='goals_per_game',y='win_percentage', figsize=(10,10))\n",
    "plt.title(\"Goals Per Game versus Win Percentage\");"
   ]
  },
  {
   "cell_type": "markdown",
   "metadata": {},
   "source": [
    "> To better understand the plot, I used seaborn and scipy to fit the data. Once I fit the data and looked through the values I could better understand the relationship of the correlation."
   ]
  },
  {
   "cell_type": "code",
   "execution_count": 38,
   "metadata": {
    "scrolled": true
   },
   "outputs": [
    {
     "data": {
      "image/png": "[encoded data removed]",
      "text/plain": [
       "<matplotlib.figure.Figure at 0x7f13ec5dcd30>"
      ]
     },
     "metadata": {
      "needs_background": "light"
     },
     "output_type": "display_data"
    }
   ],
   "source": [
    "slope, intercept, r_value, p_value, std_err = stats.linregress(scoring_to_win_data['goals_per_game'],\n",
    "    scoring_to_win_data['win_percentage'])\n",
    "ax = sns.regplot(x=\"goals_per_game\", y=\"win_percentage\",data=scoring_to_win_data, line_kws={'label':\"y={0:.5f}x+{1:.5f}\".format(slope,intercept)});\n",
    "ax.legend()\n",
    "plt.show()"
   ]
  },
  {
   "cell_type": "markdown",
   "metadata": {},
   "source": [
    "> The visual about uses linear regression in order to determine the slope of the line, the r value, and the std error. The visual helps analyze the data becuase it shoes the data has a positive linear correlation."
   ]
  },
  {
   "cell_type": "code",
   "execution_count": 39,
   "metadata": {},
   "outputs": [
    {
     "name": "stdout",
     "output_type": "stream",
     "text": [
      "The r value is: 0.9121387187910274\n",
      " The standard error is: 0.06948776903633198\n"
     ]
    }
   ],
   "source": [
    "print(\"The r value is: {}\\n\".format(r_value), \"The standard error is: {}\".format(std_err))\n"
   ]
  },
  {
   "cell_type": "markdown",
   "metadata": {},
   "source": [
    "> The next portion of the visual prints the r value and the standard error. The r value is 0.91 representing a very strong correlation between goals per game and win percentage. The standard error value shows the error for the results are 0.069 which is a small error, meaning the data is accurate and not misrepresenting results."
   ]
  },
  {
   "cell_type": "markdown",
   "metadata": {},
   "source": [
    "<a id='conclusions'></a>\n",
    "## Conclusions\n",
    "\n",
    "> Which team improved the most over the given data set?\n",
    ">>I analyzed the data using win percentages over all seaons present to find that Manchester City improved the most. Manchester City managed to rank the highest in the league in finishing above their initial 2008/2009 win percentage each season. The shortcomings of the data, are that not all teams are represented in the data. Teams could have improved at a better rate than Manchester City, but they were left out because they did not participate in the all of the seasons. Another shortcoming of the data is that the results are strictly based on win percentage. Win percetnage is a great metric for improvement, but does not represent the whole picture. Teams could have been losing close games and greatly improved from season to season, but since they did not win their improvement is not reflected in the data analyzed.\n",
    "\n",
    "> Does scoring more goals per game lead to winning games at a higher rate?\n",
    "    \n",
    ">> I analyzed the goals per game versus the win percentage from every team, across all season to find that the teams with more goals per game have a higher winning percentage. After viewing the original scatter plot, I saw a linear trend. Using seaborn and scipy's stats, I used linear regression to fit a line with an r value of 0.912. This r value is positive and very close to one meaning the goals per game strongly correlates to a higher win percentage. The shortcomings of the dataset include the fact that not all teams were counted. Teams that did not play the same number of games over the given dataset were dropped. Another shortcoming is the teams that did not score or win many games were dropped, this allowed for more accurate data, but discounts all the data.\n",
    "\n",
    "\n",
    "## Submitting your Project \n",
    "\n",
    "> Before you submit your project, you need to create a .html or .pdf version of this notebook in the workspace here. To do that, run the code cell below. If it worked correctly, you should get a return code of 0, and you should see the generated .html file in the workspace directory (click on the orange Jupyter icon in the upper left).\n",
    "\n",
    "> Alternatively, you can download this report as .html via the **File** > **Download as** submenu, and then manually upload it into the workspace directory by clicking on the orange Jupyter icon in the upper left, then using the Upload button.\n",
    "\n",
    "> Once you've done this, you can submit your project by clicking on the \"Submit Project\" button in the lower right here. This will create and submit a zip file with this .ipynb doc and the .html or .pdf version you created. Congratulations!"
   ]
  },
  {
   "cell_type": "markdown",
   "metadata": {},
   "source": [
    "## OPTIONAL: Question for the reviewer\n",
    " \n",
    "If you have any question about the starter code or your own implementation, please add it in the cell below. \n",
    "\n",
    "For example, if you want to know why a piece of code is written the way it is, or its function, or alternative ways of implementing the same functionality, or if you want to get feedback on a specific part of your code or get feedback on things you tried but did not work.\n",
    "\n",
    "Please keep your questions succinct and clear to help the reviewer answer them satisfactorily. \n",
    "\n",
    "> **_Your question_**"
   ]
  },
  {
   "cell_type": "code",
   "execution_count": 40,
   "metadata": {},
   "outputs": [
    {
     "data": {
      "text/plain": [
       "0"
      ]
     },
     "execution_count": 40,
     "metadata": {},
     "output_type": "execute_result"
    }
   ],
   "source": [
    "from subprocess import call\n",
    "call(['python', '-m', 'nbconvert', 'Investigate_a_Dataset.ipynb'])"
   ]
  }
 ],
 "metadata": {
  "kernelspec": {
   "display_name": "Python 3",
   "language": "python",
   "name": "python3"
  },
  "language_info": {
   "codemirror_mode": {
    "name": "ipython",
    "version": 3
   },
   "file_extension": ".py",
   "mimetype": "text/x-python",
   "name": "python",
   "nbconvert_exporter": "python",
   "pygments_lexer": "ipython3",
   "version": "3.6.3"
  }
 },
 "nbformat": 4,
 "nbformat_minor": 2
}
